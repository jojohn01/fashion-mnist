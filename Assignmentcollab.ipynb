{
  "cells": [
    {
      "cell_type": "code",
      "execution_count": null,
      "metadata": {
        "id": "rS5FN0rbn_gw"
      },
      "outputs": [],
      "source": [
        "from utils import mnist_reader\n",
        "import pandas as pd\n",
        "import numpy as np\n",
        "import matplotlib.pyplot as plt\n",
        "from sklearn.metrics import accuracy_score\n",
        "from sklearn.svm import LinearSVC, SVC\n",
        "from sklearn.neural_network import MLPClassifier\n",
        "import random\n",
        "\n",
        "\n",
        "xtr, ytr = mnist_reader.load_mnist('data/fashion', kind='train')\n",
        "xte, yte = mnist_reader.load_mnist('data/fashion', kind='t10k')\n",
        "\n",
        "\n",
        "ytr_noisy = ytr.copy()\n",
        "for i in range(len(ytr_noisy)):\n",
        "    if random.random() < 0.2:\n",
        "        ytr_noisy[i] = random.randint(0, 9)\n",
        "\n"
      ]
    },
    {
      "cell_type": "code",
      "execution_count": null,
      "metadata": {
        "id": "4r06ewJ0n_gx",
        "outputId": "3fa2a988-9c91-4516-d7ff-95ad5dd7d20a"
      },
      "outputs": [
        {
          "name": "stdout",
          "output_type": "stream",
          "text": [
            "{9: 6000, 0: 6000, 3: 6000, 2: 6000, 7: 6000, 5: 6000, 1: 6000, 6: 6000, 4: 6000, 8: 6000}\n"
          ]
        }
      ],
      "source": [
        "counter = {}\n",
        "for i in ytr:\n",
        "    counter[i] = counter.get(i, 0) + 1\n",
        "print(counter)\n"
      ]
    },
    {
      "cell_type": "code",
      "execution_count": null,
      "metadata": {
        "id": "ZFLlPgI9n_gx",
        "outputId": "0a1741da-e3e0-427a-c477-953805bb6712"
      },
      "outputs": [
        {
          "name": "stdout",
          "output_type": "stream",
          "text": [
            "1/10 done\n",
            "2/10 done\n",
            "3/10 done\n",
            "4/10 done\n",
            "5/10 done\n",
            "6/10 done\n",
            "7/10 done\n",
            "8/10 done\n",
            "9/10 done\n",
            "10/10 done\n"
          ]
        }
      ],
      "source": [
        "\n",
        "lsvm = {}\n",
        "gsvm = {}\n",
        "\n",
        "for i in range(10):\n",
        "    lsvm[10**i * 0.0001] = LinearSVC(C=(10**i * 0.0001))\n",
        "    for j in range(10):\n",
        "        gsvm[(10**i * 0.0001, 10**j * 0.0001)] =  SVC(C=(10**i * 0.0001), gamma=(10**j * 0.0001))\n",
        "    print(f\"{i + 1}/10 done\")"
      ]
    },
    {
      "cell_type": "code",
      "execution_count": null,
      "metadata": {
        "id": "fhEDuO2Nn_gx",
        "outputId": "33a3d5f5-a9dd-411b-911b-5b962d6f97e0"
      },
      "outputs": [
        {
          "name": "stdout",
          "output_type": "stream",
          "text": [
            "1/7 done\n",
            "2/7 done\n",
            "3/7 done\n",
            "4/7 done\n",
            "5/7 done\n",
            "6/7 done\n",
            "7/7 done\n"
          ]
        }
      ],
      "source": [
        "neural = {}\n",
        "activations = ['identity', 'logistic', 'tanh', 'relu']\n",
        "\n",
        "for i in range(1, 8):\n",
        "    for j in activations:\n",
        "        neural[(2**i, j)] = MLPClassifier(hidden_layer_sizes=(2**i, ), activation=j)\n",
        "        for k in range(1, 8):\n",
        "            neural[(2**i, 2**k, j)] = MLPClassifier(hidden_layer_sizes=(2**i, 2**k), activation=j)\n",
        "    print(f\"{i}/7 done\")\n"
      ]
    },
    {
      "cell_type": "code",
      "execution_count": null,
      "metadata": {
        "id": "ahq7X_h-n_gx",
        "outputId": "6de235d6-b46f-4e00-df0c-6f35b2f40f6d"
      },
      "outputs": [
        {
          "name": "stdout",
          "output_type": "stream",
          "text": [
            "6000.0\n",
            "0, 0.0001/10 done\n"
          ]
        }
      ],
      "source": [
        "k = 10\n",
        "shape = xtr.shape\n",
        "print(shape[0]/k)\n",
        "rows = shape[0]\n",
        "xfolds = []\n",
        "yfolds = []\n",
        "lstr_acs_folds = [[] for _ in range(k)]\n",
        "lste_acs_folds = [[] for _ in range(k)]\n",
        "gstr_acs_folds = [[] for _ in range(k)]\n",
        "gste_acs_folds = [[] for _ in range(k)]\n",
        "nntr_acs_folds = [[] for _ in range(k)]\n",
        "nnte_acs_folds = [[] for _ in range(k)]\n",
        "\n",
        "\n",
        "\n",
        "for i in range(k):\n",
        "    xfolds.append(xtr[i*(shape[0]//k): i*(shape[0]//k) + shape[0]//k])\n",
        "    yfolds.append(ytr_noisy[i*(shape[0]//k): i*(shape[0]//k) + shape[0]//k])\n",
        "\n",
        "for i in range(len(xfolds)):\n",
        "    kx_test = xfolds[i]\n",
        "    ky_test = yfolds[i]\n",
        "    kx_train = np.concatenate([xfolds[j] for j in range(len(xfolds)) if j!= i])\n",
        "    ky_train = np.concatenate([yfolds[j] for j in range(len(yfolds)) if j!= i])\n",
        "    for j in lsvm:\n",
        "        lsvm[j].fit(kx_train, ky_train)\n",
        "        lstr_acs_folds[i].append((j, accuracy_score(ky_train, lsvm[j].predict(kx_train))))\n",
        "        lste_acs_folds[i].append((j, accuracy_score(ky_test, lsvm[j].predict(kx_test))))\n",
        "        print(f\"{i}, {j}/{len(lsvm)} done\")\n",
        "\n",
        "\n",
        "    for j in gsvm:\n",
        "        gsvm[j].fit(kx_train, ky_train)\n",
        "        gstr_acs_folds[i].append((j, accuracy_score(ky_train, gsvm[j].predict(kx_train))))\n",
        "        gste_acs_folds[i].append((j, accuracy_score(ky_test, gsvm[j].predict(kx_test))))\n",
        "        print(f\"{i}, {j}/{len(gsvm)} done\")\n",
        "\n",
        "    for j in neural:\n",
        "        neural[j].fit(kx_train, ky_train)\n",
        "        nntr_acs_folds[i].append((j, accuracy_score(ky_train, neural[j].predict(kx_train))))\n",
        "        nnte_acs_folds[i].append((j, accuracy_score(ky_test, neural[j].predict(kx_test))))\n",
        "        print(f\"{i}, {j}/{len(neural)} done\")\n",
        "\n",
        "    print(f\"{i + 1}/{k} done\")\n",
        "\n"
      ]
    }
  ],
  "metadata": {
    "kernelspec": {
      "display_name": "base",
      "language": "python",
      "name": "python3"
    },
    "language_info": {
      "codemirror_mode": {
        "name": "ipython",
        "version": 3
      },
      "file_extension": ".py",
      "mimetype": "text/x-python",
      "name": "python",
      "nbconvert_exporter": "python",
      "pygments_lexer": "ipython3",
      "version": "3.12.7"
    },
    "colab": {
      "provenance": []
    }
  },
  "nbformat": 4,
  "nbformat_minor": 0
}